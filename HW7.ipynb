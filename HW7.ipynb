{
  "nbformat": 4,
  "nbformat_minor": 0,
  "metadata": {
    "colab": {
      "provenance": [],
      "mount_file_id": "1ZKf4LXru3aI58V7mMYzkLizIVU58ls9h",
      "authorship_tag": "ABX9TyPoFoujRfd5rIh2Rmqo6dMN",
      "include_colab_link": true
    },
    "kernelspec": {
      "name": "python3",
      "display_name": "Python 3"
    },
    "language_info": {
      "name": "python"
    }
  },
  "cells": [
    {
      "cell_type": "markdown",
      "metadata": {
        "id": "view-in-github",
        "colab_type": "text"
      },
      "source": [
        "<a href=\"https://colab.research.google.com/github/vit050587/ML_in_work/blob/master/HW7.ipynb\" target=\"_parent\"><img src=\"https://colab.research.google.com/assets/colab-badge.svg\" alt=\"Open In Colab\"/></a>"
      ]
    },
    {
      "cell_type": "markdown",
      "source": [
        "# Урок 7. Интерпретация прогнозов модели (SHAP): объясняем поведение модели на отдельных наблюдениях"
      ],
      "metadata": {
        "id": "QGsRJSUFjXHF"
      }
    },
    {
      "cell_type": "markdown",
      "source": [
        "Практическое задание:\n",
        "- взять любой набор данных для бинарной классификации (можно скачать один из модельных с https://archive.ics.uci.edu/ml/datasets.php)\n",
        "- сделать обзорный анализ выбранного датасета\n",
        "- сделать feature engineering\n",
        "- обучить любой классификатор (какой вам нравится)\n",
        "- разобраться с SHAP и построить важности признаков для:\n",
        "- всего тестового набора данных (summary_plot - дать интерпретацию)\n",
        "- для топ 10%\n",
        "- для отдельных наблюдений вывести force_plot и попытаться проинтерпретировать результат\n",
        "\n",
        "Ссылки:\n",
        "- Пример с Permutation Importance - https://www.kaggle.com/dansbecker/permutation-importance\n",
        "- Github проекта SHAP - https://github.com/slundberg/shap\n",
        "- https://arxiv.org/pdf/1809.04559.pdf\n",
        "- https://medium.com/civis-analytics/demystifying-black-box-models-with-shap-value-analysis-3e20b536fc80\n",
        "- https://en.wikipedia.org/wiki/Shapley_value"
      ],
      "metadata": {
        "id": "JnoRdcIXjPng"
      }
    },
    {
      "cell_type": "markdown",
      "source": [
        "Датасет https://www.kaggle.com/datasets/fedesoriano/heart-failure-prediction/download?datasetVersionNumber=1"
      ],
      "metadata": {
        "id": "LMYs92SujLz3"
      }
    },
    {
      "cell_type": "code",
      "execution_count": null,
      "metadata": {
        "id": "zJbS2a9CjEUj"
      },
      "outputs": [],
      "source": []
    }
  ]
}