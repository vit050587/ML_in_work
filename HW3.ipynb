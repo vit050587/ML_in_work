{
  "nbformat": 4,
  "nbformat_minor": 0,
  "metadata": {
    "colab": {
      "provenance": [],
      "mount_file_id": "1576eA0G00RGP0D8D3RXtYRdgJlLiy8fR",
      "authorship_tag": "ABX9TyNRI/zDavYXCVjumRKGRX0O",
      "include_colab_link": true
    },
    "kernelspec": {
      "name": "python3",
      "display_name": "Python 3"
    },
    "language_info": {
      "name": "python"
    }
  },
  "cells": [
    {
      "cell_type": "markdown",
      "metadata": {
        "id": "view-in-github",
        "colab_type": "text"
      },
      "source": [
        "<a href=\"https://colab.research.google.com/github/vit050587/ML_in_work/blob/master/HW3.ipynb\" target=\"_parent\"><img src=\"https://colab.research.google.com/assets/colab-badge.svg\" alt=\"Open In Colab\"/></a>"
      ]
    },
    {
      "cell_type": "markdown",
      "source": [
        "### Домашнее задание"
      ],
      "metadata": {
        "id": "Gp0fhijZZHbV"
      }
    },
    {
      "cell_type": "markdown",
      "source": [
        "1. обучить несколько разных моделей на наборе данных ССЗ (train_case2.csv): логрег, бустинг, лес и т.д - на ваш выбор 2-3 варианта\n",
        "2. при обучении моделей обязательно использовать кроссвалидацию\n",
        "3. вывести сравнение полученных моделей по основным метрикам классификации: pr/rec/auc/f_score (можно в виде таблицы, где строки - модели, а столбцы - метрики)\n",
        "4. сделать выводы о том, какая модель справилась с задачей лучше других\n",
        "5. (опциональный вопрос) какая метрика (precision_recall_curve или roc_auc_curve) больше подходит в случае сильного дисбаланса классов? (когда объектов одного из классов намного больше чем другого). \n",
        "\n",
        "p.s.В вопросе проще разобраться, если вспомнить оси на графике roc auc curve и рассмотреть такой пример:\n",
        "\n",
        "Имеется 100000 объектов, из которых только 100 - класс \"1\" (99900 - класс \"0\", соответственно). \n",
        "Допустим, у нас две модели:\n",
        "\n",
        "- первая помечает 100 объектов как класс 1, но TP = 90\n",
        "- вторая помечает 1000 объектов как класс 1, но TP такой же - 90\n",
        "\n",
        "Какая модель лучше и почему? И что позволяет легче сделать вывод - roc_auc_curve или precision_recall_curve?"
      ],
      "metadata": {
        "id": "liNxAk6yZKqt"
      }
    },
    {
      "cell_type": "code",
      "execution_count": 1,
      "metadata": {
        "id": "TboQQ_hR-r_E"
      },
      "outputs": [],
      "source": [
        "import pandas as pd\n",
        "import warnings\n",
        "warnings.simplefilter(action='ignore', category=FutureWarning)\n",
        "import numpy as np\n",
        "from sklearn.metrics import precision_recall_curve, roc_curve, roc_auc_score\n",
        "from sklearn.linear_model import LogisticRegression\n",
        "from sklearn.ensemble import RandomForestClassifier, GradientBoostingClassifier\n",
        "from sklearn.model_selection import cross_val_score, train_test_split, GridSearchCV\n",
        "from sklearn.base import BaseEstimator, TransformerMixin\n",
        "from sklearn.pipeline import Pipeline, make_pipeline\n",
        "import seaborn as sns\n",
        "import matplotlib.pyplot as plt\n",
        "from sklearn.pipeline import FeatureUnion"
      ]
    },
    {
      "cell_type": "markdown",
      "source": [
        "**1. обучить несколько разных моделей на наборе данных ССЗ (train_case2.csv): логрег, бустинг, лес и т.д - на ваш выбор 2-3 варианта**"
      ],
      "metadata": {
        "id": "sK_A68LYZYTH"
      }
    },
    {
      "cell_type": "code",
      "source": [
        "df = pd.read_csv('/content/drive/MyDrive/Colab Notebooks/ML_in_work/Lection3/train_case2.csv', ';')\n",
        "df.head(3)"
      ],
      "metadata": {
        "id": "pwY2laZ2ZcYU",
        "colab": {
          "base_uri": "https://localhost:8080/",
          "height": 143
        },
        "outputId": "b751a5aa-f830-4398-d12b-9165262ab1ce"
      },
      "execution_count": 2,
      "outputs": [
        {
          "output_type": "execute_result",
          "data": {
            "text/plain": [
              "   id    age  gender  height  weight  ap_hi  ap_lo  cholesterol  gluc  smoke  \\\n",
              "0   0  18393       2     168    62.0    110     80            1     1      0   \n",
              "1   1  20228       1     156    85.0    140     90            3     1      0   \n",
              "2   2  18857       1     165    64.0    130     70            3     1      0   \n",
              "\n",
              "   alco  active  cardio  \n",
              "0     0       1       0  \n",
              "1     0       1       1  \n",
              "2     0       0       1  "
            ],
            "text/html": [
              "\n",
              "  <div id=\"df-31bf9841-9f11-41be-96e7-ef3dff77ab34\">\n",
              "    <div class=\"colab-df-container\">\n",
              "      <div>\n",
              "<style scoped>\n",
              "    .dataframe tbody tr th:only-of-type {\n",
              "        vertical-align: middle;\n",
              "    }\n",
              "\n",
              "    .dataframe tbody tr th {\n",
              "        vertical-align: top;\n",
              "    }\n",
              "\n",
              "    .dataframe thead th {\n",
              "        text-align: right;\n",
              "    }\n",
              "</style>\n",
              "<table border=\"1\" class=\"dataframe\">\n",
              "  <thead>\n",
              "    <tr style=\"text-align: right;\">\n",
              "      <th></th>\n",
              "      <th>id</th>\n",
              "      <th>age</th>\n",
              "      <th>gender</th>\n",
              "      <th>height</th>\n",
              "      <th>weight</th>\n",
              "      <th>ap_hi</th>\n",
              "      <th>ap_lo</th>\n",
              "      <th>cholesterol</th>\n",
              "      <th>gluc</th>\n",
              "      <th>smoke</th>\n",
              "      <th>alco</th>\n",
              "      <th>active</th>\n",
              "      <th>cardio</th>\n",
              "    </tr>\n",
              "  </thead>\n",
              "  <tbody>\n",
              "    <tr>\n",
              "      <th>0</th>\n",
              "      <td>0</td>\n",
              "      <td>18393</td>\n",
              "      <td>2</td>\n",
              "      <td>168</td>\n",
              "      <td>62.0</td>\n",
              "      <td>110</td>\n",
              "      <td>80</td>\n",
              "      <td>1</td>\n",
              "      <td>1</td>\n",
              "      <td>0</td>\n",
              "      <td>0</td>\n",
              "      <td>1</td>\n",
              "      <td>0</td>\n",
              "    </tr>\n",
              "    <tr>\n",
              "      <th>1</th>\n",
              "      <td>1</td>\n",
              "      <td>20228</td>\n",
              "      <td>1</td>\n",
              "      <td>156</td>\n",
              "      <td>85.0</td>\n",
              "      <td>140</td>\n",
              "      <td>90</td>\n",
              "      <td>3</td>\n",
              "      <td>1</td>\n",
              "      <td>0</td>\n",
              "      <td>0</td>\n",
              "      <td>1</td>\n",
              "      <td>1</td>\n",
              "    </tr>\n",
              "    <tr>\n",
              "      <th>2</th>\n",
              "      <td>2</td>\n",
              "      <td>18857</td>\n",
              "      <td>1</td>\n",
              "      <td>165</td>\n",
              "      <td>64.0</td>\n",
              "      <td>130</td>\n",
              "      <td>70</td>\n",
              "      <td>3</td>\n",
              "      <td>1</td>\n",
              "      <td>0</td>\n",
              "      <td>0</td>\n",
              "      <td>0</td>\n",
              "      <td>1</td>\n",
              "    </tr>\n",
              "  </tbody>\n",
              "</table>\n",
              "</div>\n",
              "      <button class=\"colab-df-convert\" onclick=\"convertToInteractive('df-31bf9841-9f11-41be-96e7-ef3dff77ab34')\"\n",
              "              title=\"Convert this dataframe to an interactive table.\"\n",
              "              style=\"display:none;\">\n",
              "        \n",
              "  <svg xmlns=\"http://www.w3.org/2000/svg\" height=\"24px\"viewBox=\"0 0 24 24\"\n",
              "       width=\"24px\">\n",
              "    <path d=\"M0 0h24v24H0V0z\" fill=\"none\"/>\n",
              "    <path d=\"M18.56 5.44l.94 2.06.94-2.06 2.06-.94-2.06-.94-.94-2.06-.94 2.06-2.06.94zm-11 1L8.5 8.5l.94-2.06 2.06-.94-2.06-.94L8.5 2.5l-.94 2.06-2.06.94zm10 10l.94 2.06.94-2.06 2.06-.94-2.06-.94-.94-2.06-.94 2.06-2.06.94z\"/><path d=\"M17.41 7.96l-1.37-1.37c-.4-.4-.92-.59-1.43-.59-.52 0-1.04.2-1.43.59L10.3 9.45l-7.72 7.72c-.78.78-.78 2.05 0 2.83L4 21.41c.39.39.9.59 1.41.59.51 0 1.02-.2 1.41-.59l7.78-7.78 2.81-2.81c.8-.78.8-2.07 0-2.86zM5.41 20L4 18.59l7.72-7.72 1.47 1.35L5.41 20z\"/>\n",
              "  </svg>\n",
              "      </button>\n",
              "      \n",
              "  <style>\n",
              "    .colab-df-container {\n",
              "      display:flex;\n",
              "      flex-wrap:wrap;\n",
              "      gap: 12px;\n",
              "    }\n",
              "\n",
              "    .colab-df-convert {\n",
              "      background-color: #E8F0FE;\n",
              "      border: none;\n",
              "      border-radius: 50%;\n",
              "      cursor: pointer;\n",
              "      display: none;\n",
              "      fill: #1967D2;\n",
              "      height: 32px;\n",
              "      padding: 0 0 0 0;\n",
              "      width: 32px;\n",
              "    }\n",
              "\n",
              "    .colab-df-convert:hover {\n",
              "      background-color: #E2EBFA;\n",
              "      box-shadow: 0px 1px 2px rgba(60, 64, 67, 0.3), 0px 1px 3px 1px rgba(60, 64, 67, 0.15);\n",
              "      fill: #174EA6;\n",
              "    }\n",
              "\n",
              "    [theme=dark] .colab-df-convert {\n",
              "      background-color: #3B4455;\n",
              "      fill: #D2E3FC;\n",
              "    }\n",
              "\n",
              "    [theme=dark] .colab-df-convert:hover {\n",
              "      background-color: #434B5C;\n",
              "      box-shadow: 0px 1px 3px 1px rgba(0, 0, 0, 0.15);\n",
              "      filter: drop-shadow(0px 1px 2px rgba(0, 0, 0, 0.3));\n",
              "      fill: #FFFFFF;\n",
              "    }\n",
              "  </style>\n",
              "\n",
              "      <script>\n",
              "        const buttonEl =\n",
              "          document.querySelector('#df-31bf9841-9f11-41be-96e7-ef3dff77ab34 button.colab-df-convert');\n",
              "        buttonEl.style.display =\n",
              "          google.colab.kernel.accessAllowed ? 'block' : 'none';\n",
              "\n",
              "        async function convertToInteractive(key) {\n",
              "          const element = document.querySelector('#df-31bf9841-9f11-41be-96e7-ef3dff77ab34');\n",
              "          const dataTable =\n",
              "            await google.colab.kernel.invokeFunction('convertToInteractive',\n",
              "                                                     [key], {});\n",
              "          if (!dataTable) return;\n",
              "\n",
              "          const docLinkHtml = 'Like what you see? Visit the ' +\n",
              "            '<a target=\"_blank\" href=https://colab.research.google.com/notebooks/data_table.ipynb>data table notebook</a>'\n",
              "            + ' to learn more about interactive tables.';\n",
              "          element.innerHTML = '';\n",
              "          dataTable['output_type'] = 'display_data';\n",
              "          await google.colab.output.renderOutput(dataTable, element);\n",
              "          const docLink = document.createElement('div');\n",
              "          docLink.innerHTML = docLinkHtml;\n",
              "          element.appendChild(docLink);\n",
              "        }\n",
              "      </script>\n",
              "    </div>\n",
              "  </div>\n",
              "  "
            ]
          },
          "metadata": {},
          "execution_count": 2
        }
      ]
    },
    {
      "cell_type": "code",
      "source": [
        "#разделим данные на train/test\n",
        "X_train, X_test, y_train, y_test = train_test_split(df.drop('cardio', 1), \n",
        "                                                    df['cardio'], random_state=0)"
      ],
      "metadata": {
        "id": "j-DPEYN8Z7_m"
      },
      "execution_count": 3,
      "outputs": []
    },
    {
      "cell_type": "markdown",
      "source": [
        "**К полям:**\n",
        "\n",
        "* gender, cholesterol применим OHE-кодирование\n",
        "* age, height, weight, ap_hi, ap_lo - standardScaler\n",
        "* gluc, smoke, alco, active - оставим пока как есть"
      ],
      "metadata": {
        "id": "vkxTOyMgaCBh"
      }
    },
    {
      "cell_type": "code",
      "source": [
        "class ColumnSelector(BaseEstimator, TransformerMixin):\n",
        "    \"\"\"\n",
        "    Transformer to select a single column from the data frame to perform additional transformations on\n",
        "    \"\"\"\n",
        "    def __init__(self, key):\n",
        "        self.key = key\n",
        "\n",
        "    def fit(self, X, y=None):\n",
        "        return self\n",
        "\n",
        "    def transform(self, X):\n",
        "        return X[self.key]\n",
        "    \n",
        "class NumberSelector(BaseEstimator, TransformerMixin):\n",
        "    \"\"\"\n",
        "    Transformer to select a single column from the data frame to perform additional transformations on\n",
        "    Use on numeric columns in the data\n",
        "    \"\"\"\n",
        "    def __init__(self, key):\n",
        "        self.key = key\n",
        "\n",
        "    def fit(self, X, y=None):\n",
        "        return self\n",
        "\n",
        "    def transform(self, X):\n",
        "        return X[[self.key]]\n",
        "    \n",
        "class OHEEncoder(BaseEstimator, TransformerMixin):\n",
        "    def __init__(self, key):\n",
        "        self.key = key\n",
        "        self.columns = []\n",
        "\n",
        "    def fit(self, X, y=None):\n",
        "        self.columns = [col for col in pd.get_dummies(X, prefix=self.key).columns]\n",
        "        return self\n",
        "\n",
        "    def transform(self, X):\n",
        "        X = pd.get_dummies(X, prefix=self.key)\n",
        "        test_columns = [col for col in X.columns]\n",
        "        for col_ in test_columns:\n",
        "            if col_ not in self.columns:\n",
        "                X[col_] = 0\n",
        "        return X[self.columns]\n",
        "\n",
        "\n",
        "from sklearn.preprocessing import StandardScaler\n",
        "\n",
        "\n",
        "continuos_cols = ['age', 'height', 'weight', 'ap_hi', 'ap_lo']\n",
        "cat_cols = ['gender', 'cholesterol']\n",
        "base_cols = ['gluc', 'smoke', 'alco', 'active']\n",
        "\n",
        "continuos_transformers = []\n",
        "cat_transformers = []\n",
        "base_transformers = []\n",
        "\n",
        "for cont_col in continuos_cols:\n",
        "    transfomer =  Pipeline([\n",
        "                ('selector', NumberSelector(key=cont_col)),\n",
        "                ('standard', StandardScaler())\n",
        "            ])\n",
        "    continuos_transformers.append((cont_col, transfomer))\n",
        "    \n",
        "for cat_col in cat_cols:\n",
        "    cat_transformer = Pipeline([\n",
        "                ('selector', ColumnSelector(key=cat_col)),\n",
        "                ('ohe', OHEEncoder(key=cat_col))\n",
        "            ])\n",
        "    cat_transformers.append((cat_col, cat_transformer))\n",
        "    \n",
        "for base_col in base_cols:\n",
        "    base_transformer = Pipeline([\n",
        "                ('selector', NumberSelector(key=base_col))\n",
        "            ])\n",
        "    base_transformers.append((base_col, base_transformer))"
      ],
      "metadata": {
        "id": "WpunXkUWaVfx"
      },
      "execution_count": 4,
      "outputs": []
    },
    {
      "cell_type": "markdown",
      "source": [
        "Теперь объединим все наши трансформеры с помощью FeatureUnion"
      ],
      "metadata": {
        "id": "TuSnaoRpaakM"
      }
    },
    {
      "cell_type": "code",
      "source": [
        "from sklearn.pipeline import FeatureUnion\n",
        "\n",
        "feats = FeatureUnion(continuos_transformers+cat_transformers+base_transformers)\n",
        "feature_processing = Pipeline([('feats', feats)])\n",
        "\n",
        "feature_processing.fit_transform(X_train)"
      ],
      "metadata": {
        "id": "cS21kLddadgV",
        "colab": {
          "base_uri": "https://localhost:8080/"
        },
        "outputId": "89b46a30-c051-481d-d332-c06c7b012a8f"
      },
      "execution_count": 5,
      "outputs": [
        {
          "output_type": "execute_result",
          "data": {
            "text/plain": [
              "array([[-1.73391771,  0.6873301 ,  0.74843904, ...,  1.        ,\n",
              "         0.        ,  1.        ],\n",
              "       [-1.67343538,  0.07758923, -0.29640123, ...,  0.        ,\n",
              "         0.        ,  1.        ],\n",
              "       [ 0.13738132,  1.17512278, -0.15708919, ...,  0.        ,\n",
              "         0.        ,  0.        ],\n",
              "       ...,\n",
              "       [ 1.17775864,  1.17512278, -0.15708919, ...,  0.        ,\n",
              "         0.        ,  1.        ],\n",
              "       [-0.47190715, -1.38578883,  0.74843904, ...,  0.        ,\n",
              "         0.        ,  1.        ],\n",
              "       [ 0.38174619,  0.56538192, -0.08743318, ...,  0.        ,\n",
              "         0.        ,  1.        ]])"
            ]
          },
          "metadata": {},
          "execution_count": 5
        }
      ]
    },
    {
      "cell_type": "markdown",
      "source": [
        "Добавим классификатор и запустим кросс-валидацию"
      ],
      "metadata": {
        "id": "9E7T4fCyagfC"
      }
    },
    {
      "cell_type": "code",
      "source": [
        "classifier = Pipeline([\n",
        "    ('features',feats),\n",
        "    ('classifier', LogisticRegression(random_state = 42)),\n",
        "])\n",
        "\n",
        "\n",
        "#запустим кросс-валидацию\n",
        "cv_scores = cross_val_score(classifier, X_train, y_train, cv=16, scoring='roc_auc')\n",
        "cv_score = np.mean(cv_scores)\n",
        "cv_score_std = np.std(cv_scores)\n",
        "print(f'CV score is {cv_score}+-{cv_score_std}')\n",
        "\n",
        "#обучим пайплайн на всем тренировочном датасете\n",
        "classifier.fit(X_train, y_train)\n",
        "y_score = classifier.predict_proba(X_test)[:, 1]"
      ],
      "metadata": {
        "id": "_UENxHQJaj23",
        "colab": {
          "base_uri": "https://localhost:8080/"
        },
        "outputId": "f24ff277-08ff-4ae2-ccd1-2c4a7d946373"
      },
      "execution_count": 6,
      "outputs": [
        {
          "output_type": "stream",
          "name": "stdout",
          "text": [
            "CV score is 0.7867401104915408+-0.00852135511666111\n"
          ]
        }
      ]
    },
    {
      "cell_type": "markdown",
      "source": [
        "Посчитаем precision/recall/f_score"
      ],
      "metadata": {
        "id": "oz087KQCam4s"
      }
    },
    {
      "cell_type": "code",
      "source": [
        "b=1\n",
        "precision, recall, thresholds = precision_recall_curve(y_test.values, y_score)\n",
        "fscore = (1+b**2)*(precision * recall) / (b**2*precision + recall)\n",
        "# locate the index of the largest f score\n",
        "ix = np.argmax(fscore)\n",
        "print(f'Best Threshold={thresholds[ix]}, F-Score={fscore[ix]: .3f}, Precision={precision[ix]: .3f}, Recall={recall[ix]: .3f}')\n",
        "fin_dict={\n",
        "    'model':['LogReg'],\n",
        "    'F-score':[fscore[ix]],\n",
        "    'Precision':[precision[ix]],\n",
        "    'Recall':[recall[ix]]\n",
        "}"
      ],
      "metadata": {
        "id": "YPbE8u3nan4t",
        "colab": {
          "base_uri": "https://localhost:8080/"
        },
        "outputId": "34f87a2d-e03c-4f45-d061-3b2c4e6d288e"
      },
      "execution_count": 7,
      "outputs": [
        {
          "output_type": "stream",
          "name": "stdout",
          "text": [
            "Best Threshold=0.3869370891147379, F-Score= 0.730, Precision= 0.647, Recall= 0.838\n"
          ]
        }
      ]
    },
    {
      "cell_type": "markdown",
      "source": [
        "Нарисуем roc auc кривую"
      ],
      "metadata": {
        "id": "VndgSlegar6T"
      }
    },
    {
      "cell_type": "code",
      "source": [
        "def roc_auc_plot(y_test, y_score):\n",
        "    sns.set(font_scale=1.5)\n",
        "    sns.set_color_codes(\"muted\")\n",
        "\n",
        "    plt.figure(figsize=(10, 8))\n",
        "    fpr, tpr, thresholds_ = roc_curve(y_test, y_score, pos_label=1)\n",
        "    lw = 2\n",
        "    plt.plot(fpr, tpr, lw=lw, label='ROC curve ')\n",
        "    plt.plot([0, 1], [0, 1])\n",
        "    plt.xlim([0.0, 1.0])\n",
        "    plt.ylim([0.0, 1.05])\n",
        "    plt.xlabel('False Positive Rate')\n",
        "    plt.ylabel('True Positive Rate')\n",
        "    plt.title('ROC curve')\n",
        "    plt.text(0,1,f'ROC-AUC_SCORE{roc_auc_score(y_test,y_score): .3f}')\n",
        "    #plt.savefig(\"ROC.png\")\n",
        "    plt.show()"
      ],
      "metadata": {
        "id": "gRpJG3ijatDI"
      },
      "execution_count": 8,
      "outputs": []
    },
    {
      "cell_type": "code",
      "source": [
        "roc_auc_plot(y_test, y_score)"
      ],
      "metadata": {
        "id": "5RqsBut-ayUj",
        "colab": {
          "base_uri": "https://localhost:8080/",
          "height": 535
        },
        "outputId": "1930e06d-b5b6-4935-f0fe-5869b2ccafcb"
      },
      "execution_count": 9,
      "outputs": [
        {
          "output_type": "display_data",
          "data": {
            "text/plain": [
              "<Figure size 720x576 with 1 Axes>"
            ],
            "image/png": "[encoded data removed]"
          },
          "metadata": {}
        }
      ]
    },
    {
      "cell_type": "code",
      "source": [
        "fin_dict.update({'ROC-AUC-SCORE':[roc_auc_score(y_test, y_score)]})"
      ],
      "metadata": {
        "id": "Y3TPFG9-a1dU"
      },
      "execution_count": 10,
      "outputs": []
    },
    {
      "cell_type": "markdown",
      "source": [
        "Попробуем RandomForestClassifier и CatBoostClassifier, определим лучшие параметры"
      ],
      "metadata": {
        "id": "s4mjgVf0a3tg"
      }
    },
    {
      "cell_type": "markdown",
      "source": [
        "**RandomForestClassifier**"
      ],
      "metadata": {
        "id": "-PWyPsO1a6os"
      }
    },
    {
      "cell_type": "code",
      "source": [
        "parameters = {\n",
        "     'n_estimators': [ 200, 800],        # для уменьшения времени при повторном запуске кода\n",
        "     'max_depth': np.arange(10, 12, 2),\n",
        " }\n",
        "clf = GridSearchCV(estimator=RandomForestClassifier(random_state=0), param_grid=parameters, scoring='roc_auc', cv=5)\n",
        "clf.fit(X_train, y_train)\n",
        "clf.best_params_"
      ],
      "metadata": {
        "id": "QCTL0Zyla9vT",
        "colab": {
          "base_uri": "https://localhost:8080/"
        },
        "outputId": "50e2a3d2-de57-45c2-917e-c947fa09b8b0"
      },
      "execution_count": 14,
      "outputs": [
        {
          "output_type": "execute_result",
          "data": {
            "text/plain": [
              "{'max_depth': 10, 'n_estimators': 800}"
            ]
          },
          "metadata": {},
          "execution_count": 14
        }
      ]
    },
    {
      "cell_type": "code",
      "source": [
        "classifier_RF = Pipeline([\n",
        "    ('features',feats),\n",
        "    ('classifier', RandomForestClassifier(n_estimators=800, max_depth=10, random_state=0))])"
      ],
      "metadata": {
        "id": "IJjcCNlEbATo"
      },
      "execution_count": 15,
      "outputs": []
    },
    {
      "cell_type": "code",
      "source": [
        "#запустим кросс-валидацию\n",
        "cv_scores = cross_val_score(classifier_RF, X_train, y_train, cv=16, scoring='roc_auc')\n",
        "cv_score = np.mean(cv_scores)\n",
        "cv_score_std = np.std(cv_scores)\n",
        "print(f'CV score is {cv_score}+-{cv_score_std}')\n",
        "\n",
        "#обучим пайплайн на всем тренировочном датасете\n",
        "classifier_RF.fit(X_train, y_train)\n",
        "y_score_rf = classifier_RF.predict_proba(X_test)[:, 1]"
      ],
      "metadata": {
        "id": "zpX6r_tobCbP",
        "colab": {
          "base_uri": "https://localhost:8080/"
        },
        "outputId": "a8faecf0-680d-4c2e-ac93-ad1b74e819be"
      },
      "execution_count": 16,
      "outputs": [
        {
          "output_type": "stream",
          "name": "stdout",
          "text": [
            "CV score is 0.8020126827832292+-0.006997592210458914\n"
          ]
        }
      ]
    },
    {
      "cell_type": "code",
      "source": [
        "fin_dict"
      ],
      "metadata": {
        "id": "4KP2zOyDbF6I",
        "colab": {
          "base_uri": "https://localhost:8080/"
        },
        "outputId": "4bfc0290-ebb7-4ceb-b679-e1591b1eab09"
      },
      "execution_count": 17,
      "outputs": [
        {
          "output_type": "execute_result",
          "data": {
            "text/plain": [
              "{'model': ['LogReg'],\n",
              " 'F-score': [0.7303229695112764],\n",
              " 'Precision': [0.6474307596402173],\n",
              " 'Recall': [0.8375576036866359],\n",
              " 'ROC-AUC-SCORE': [0.7840347790421852]}"
            ]
          },
          "metadata": {},
          "execution_count": 17
        }
      ]
    },
    {
      "cell_type": "code",
      "source": [
        "b=1\n",
        "precision, recall, thresholds = precision_recall_curve(y_test.values, y_score_rf)\n",
        "fscore = (1+b**2)*(precision * recall) / (b**2*precision + recall)\n",
        "# locate the index of the largest f score\n",
        "ix = np.argmax(fscore)\n",
        "print(f'Best Threshold={thresholds[ix]}, F-Score={fscore[ix]: .3f}, Precision={precision[ix]: .3f}, Recall={recall[ix]: .3f}')\n",
        "new_list=['RF',fscore[ix],precision[ix], recall[ix], roc_auc_score(y_test, y_score_rf)]\n",
        "for i, (key, val) in enumerate(fin_dict.items()):\n",
        "    fin_dict[key].append(new_list[i])"
      ],
      "metadata": {
        "id": "o4yGYgegbIlI",
        "colab": {
          "base_uri": "https://localhost:8080/"
        },
        "outputId": "3522ab6a-2d17-4556-f1ce-de0f2dea3fca"
      },
      "execution_count": 18,
      "outputs": [
        {
          "output_type": "stream",
          "name": "stdout",
          "text": [
            "Best Threshold=0.3978821927188207, F-Score= 0.740, Precision= 0.697, Recall= 0.789\n"
          ]
        }
      ]
    },
    {
      "cell_type": "code",
      "source": [
        "roc_auc_plot(y_test, y_score_rf)"
      ],
      "metadata": {
        "id": "5UwrB_V-bK5Q",
        "colab": {
          "base_uri": "https://localhost:8080/",
          "height": 535
        },
        "outputId": "52263cf6-0de3-4919-a073-4d1320f9eb0d"
      },
      "execution_count": 19,
      "outputs": [
        {
          "output_type": "display_data",
          "data": {
            "text/plain": [
              "<Figure size 720x576 with 1 Axes>"
            ],
            "image/png": "[encoded data removed]"
          },
          "metadata": {}
        }
      ]
    },
    {
      "cell_type": "markdown",
      "source": [
        "**GradientBoostingClassifier**"
      ],
      "metadata": {
        "id": "YWESRa8nbNdV"
      }
    },
    {
      "cell_type": "code",
      "source": [
        "parameters_gb = {\n",
        "     'n_estimators': [100, 150, 200, 600, 1000],\n",
        "     'max_depth': np.arange(2, 10, 2),\n",
        " }\n",
        "clf = GridSearchCV(estimator=GradientBoostingClassifier(random_state=0), param_grid=parameters_gb, scoring='roc_auc', cv=5)\n",
        "clf.fit(X_train, y_train)\n",
        "clf.best_params_"
      ],
      "metadata": {
        "id": "tmz4juS_bSdG",
        "colab": {
          "base_uri": "https://localhost:8080/"
        },
        "outputId": "c3fcc2db-6e81-4225-c743-b6898b85677b"
      },
      "execution_count": 20,
      "outputs": [
        {
          "output_type": "execute_result",
          "data": {
            "text/plain": [
              "{'max_depth': 4, 'n_estimators': 100}"
            ]
          },
          "metadata": {},
          "execution_count": 20
        }
      ]
    },
    {
      "cell_type": "code",
      "source": [
        "classifier_gb = Pipeline([\n",
        "    ('features',feats),\n",
        "    ('classifier', GradientBoostingClassifier( max_depth=4, n_estimators=100,random_state=0))])"
      ],
      "metadata": {
        "id": "u_9Rgp03bVUG"
      },
      "execution_count": 21,
      "outputs": []
    },
    {
      "cell_type": "code",
      "source": [
        "#запустим кросс-валидацию\n",
        "cv_scores = cross_val_score(classifier_gb, X_train, y_train, cv=16, scoring='roc_auc')\n",
        "cv_score = np.mean(cv_scores)\n",
        "cv_score_std = np.std(cv_scores)\n",
        "print(f'CV score is {cv_score}+-{cv_score_std}')"
      ],
      "metadata": {
        "id": "HoeXAfFUbXfR",
        "colab": {
          "base_uri": "https://localhost:8080/"
        },
        "outputId": "03635bc3-a165-4110-b810-5b16a3f72144"
      },
      "execution_count": 22,
      "outputs": [
        {
          "output_type": "stream",
          "name": "stdout",
          "text": [
            "CV score is 0.8026140346199115+-0.006967476204892024\n"
          ]
        }
      ]
    },
    {
      "cell_type": "code",
      "source": [
        "#обучим пайплайн на всем тренировочном датасете\n",
        "classifier_gb.fit(X_train, y_train)\n",
        "y_score_gb = classifier_gb.predict_proba(X_test)[:, 1]"
      ],
      "metadata": {
        "id": "7vRmw_SWbZ6J"
      },
      "execution_count": 23,
      "outputs": []
    },
    {
      "cell_type": "code",
      "source": [
        "b=1\n",
        "precision, recall, thresholds = precision_recall_curve(y_test.values, y_score_gb)\n",
        "fscore = (1+b**2)*(precision * recall) / (b**2*precision + recall)\n",
        "# locate the index of the largest f score\n",
        "ix = np.argmax(fscore)\n",
        "print(f'Best Threshold={thresholds[ix]}, F-Score={fscore[ix]: .3f}, Precision={precision[ix]: .3f}, Recall={recall[ix]: .3f}')\n",
        "new_list=['GradBoost',fscore[ix],precision[ix], recall[ix], roc_auc_score(y_test, y_score_gb)]\n",
        "for i, (key, val) in enumerate(fin_dict.items()):\n",
        "    fin_dict[key].append(new_list[i])"
      ],
      "metadata": {
        "id": "VPht4RuBbcT8",
        "colab": {
          "base_uri": "https://localhost:8080/"
        },
        "outputId": "19e6db89-1501-4406-add7-e1bdc2423b9a"
      },
      "execution_count": 24,
      "outputs": [
        {
          "output_type": "stream",
          "name": "stdout",
          "text": [
            "Best Threshold=0.365865538275279, F-Score= 0.740, Precision= 0.676, Recall= 0.816\n"
          ]
        }
      ]
    },
    {
      "cell_type": "code",
      "source": [
        "fin_dict"
      ],
      "metadata": {
        "id": "AObo45wybeoz",
        "colab": {
          "base_uri": "https://localhost:8080/"
        },
        "outputId": "ade52167-5ef9-422d-b298-91d8611085ac"
      },
      "execution_count": 25,
      "outputs": [
        {
          "output_type": "execute_result",
          "data": {
            "text/plain": [
              "{'model': ['LogReg', 'RF', 'GradBoost'],\n",
              " 'F-score': [0.7303229695112764, 0.7400681044267878, 0.7398590446358653],\n",
              " 'Precision': [0.6474307596402173, 0.6970776906628653, 0.6764677804295943],\n",
              " 'Recall': [0.8375576036866359, 0.7887096774193548, 0.8163594470046083],\n",
              " 'ROC-AUC-SCORE': [0.7840347790421852, 0.8018595410514435, 0.8027936808363899]}"
            ]
          },
          "metadata": {},
          "execution_count": 25
        }
      ]
    },
    {
      "cell_type": "code",
      "source": [
        "roc_auc_plot(y_test, y_score_gb)"
      ],
      "metadata": {
        "id": "GkMhrC_Zbg2P",
        "colab": {
          "base_uri": "https://localhost:8080/",
          "height": 535
        },
        "outputId": "6525bfbd-c514-42c1-d0ec-012489a32a25"
      },
      "execution_count": 26,
      "outputs": [
        {
          "output_type": "display_data",
          "data": {
            "text/plain": [
              "<Figure size 720x576 with 1 Axes>"
            ],
            "image/png": "[encoded data removed]"
          },
          "metadata": {}
        }
      ]
    },
    {
      "cell_type": "code",
      "source": [
        "res=pd.DataFrame(fin_dict).set_index('model')\n",
        "res"
      ],
      "metadata": {
        "id": "XnhMMviIbjwu",
        "colab": {
          "base_uri": "https://localhost:8080/",
          "height": 175
        },
        "outputId": "4d239f00-1497-4999-a1ac-890915d3c777"
      },
      "execution_count": 29,
      "outputs": [
        {
          "output_type": "execute_result",
          "data": {
            "text/plain": [
              "            F-score  Precision    Recall  ROC-AUC-SCORE\n",
              "model                                                  \n",
              "LogReg     0.730323   0.647431  0.837558       0.784035\n",
              "RF         0.740068   0.697078  0.788710       0.801860\n",
              "GradBoost  0.739859   0.676468  0.816359       0.802794"
            ],
            "text/html": [
              "\n",
              "  <div id=\"df-8579f818-e26b-4ba6-9328-163fec6c9d45\">\n",
              "    <div class=\"colab-df-container\">\n",
              "      <div>\n",
              "<style scoped>\n",
              "    .dataframe tbody tr th:only-of-type {\n",
              "        vertical-align: middle;\n",
              "    }\n",
              "\n",
              "    .dataframe tbody tr th {\n",
              "        vertical-align: top;\n",
              "    }\n",
              "\n",
              "    .dataframe thead th {\n",
              "        text-align: right;\n",
              "    }\n",
              "</style>\n",
              "<table border=\"1\" class=\"dataframe\">\n",
              "  <thead>\n",
              "    <tr style=\"text-align: right;\">\n",
              "      <th></th>\n",
              "      <th>F-score</th>\n",
              "      <th>Precision</th>\n",
              "      <th>Recall</th>\n",
              "      <th>ROC-AUC-SCORE</th>\n",
              "    </tr>\n",
              "    <tr>\n",
              "      <th>model</th>\n",
              "      <th></th>\n",
              "      <th></th>\n",
              "      <th></th>\n",
              "      <th></th>\n",
              "    </tr>\n",
              "  </thead>\n",
              "  <tbody>\n",
              "    <tr>\n",
              "      <th>LogReg</th>\n",
              "      <td>0.730323</td>\n",
              "      <td>0.647431</td>\n",
              "      <td>0.837558</td>\n",
              "      <td>0.784035</td>\n",
              "    </tr>\n",
              "    <tr>\n",
              "      <th>RF</th>\n",
              "      <td>0.740068</td>\n",
              "      <td>0.697078</td>\n",
              "      <td>0.788710</td>\n",
              "      <td>0.801860</td>\n",
              "    </tr>\n",
              "    <tr>\n",
              "      <th>GradBoost</th>\n",
              "      <td>0.739859</td>\n",
              "      <td>0.676468</td>\n",
              "      <td>0.816359</td>\n",
              "      <td>0.802794</td>\n",
              "    </tr>\n",
              "  </tbody>\n",
              "</table>\n",
              "</div>\n",
              "      <button class=\"colab-df-convert\" onclick=\"convertToInteractive('df-8579f818-e26b-4ba6-9328-163fec6c9d45')\"\n",
              "              title=\"Convert this dataframe to an interactive table.\"\n",
              "              style=\"display:none;\">\n",
              "        \n",
              "  <svg xmlns=\"http://www.w3.org/2000/svg\" height=\"24px\"viewBox=\"0 0 24 24\"\n",
              "       width=\"24px\">\n",
              "    <path d=\"M0 0h24v24H0V0z\" fill=\"none\"/>\n",
              "    <path d=\"M18.56 5.44l.94 2.06.94-2.06 2.06-.94-2.06-.94-.94-2.06-.94 2.06-2.06.94zm-11 1L8.5 8.5l.94-2.06 2.06-.94-2.06-.94L8.5 2.5l-.94 2.06-2.06.94zm10 10l.94 2.06.94-2.06 2.06-.94-2.06-.94-.94-2.06-.94 2.06-2.06.94z\"/><path d=\"M17.41 7.96l-1.37-1.37c-.4-.4-.92-.59-1.43-.59-.52 0-1.04.2-1.43.59L10.3 9.45l-7.72 7.72c-.78.78-.78 2.05 0 2.83L4 21.41c.39.39.9.59 1.41.59.51 0 1.02-.2 1.41-.59l7.78-7.78 2.81-2.81c.8-.78.8-2.07 0-2.86zM5.41 20L4 18.59l7.72-7.72 1.47 1.35L5.41 20z\"/>\n",
              "  </svg>\n",
              "      </button>\n",
              "      \n",
              "  <style>\n",
              "    .colab-df-container {\n",
              "      display:flex;\n",
              "      flex-wrap:wrap;\n",
              "      gap: 12px;\n",
              "    }\n",
              "\n",
              "    .colab-df-convert {\n",
              "      background-color: #E8F0FE;\n",
              "      border: none;\n",
              "      border-radius: 50%;\n",
              "      cursor: pointer;\n",
              "      display: none;\n",
              "      fill: #1967D2;\n",
              "      height: 32px;\n",
              "      padding: 0 0 0 0;\n",
              "      width: 32px;\n",
              "    }\n",
              "\n",
              "    .colab-df-convert:hover {\n",
              "      background-color: #E2EBFA;\n",
              "      box-shadow: 0px 1px 2px rgba(60, 64, 67, 0.3), 0px 1px 3px 1px rgba(60, 64, 67, 0.15);\n",
              "      fill: #174EA6;\n",
              "    }\n",
              "\n",
              "    [theme=dark] .colab-df-convert {\n",
              "      background-color: #3B4455;\n",
              "      fill: #D2E3FC;\n",
              "    }\n",
              "\n",
              "    [theme=dark] .colab-df-convert:hover {\n",
              "      background-color: #434B5C;\n",
              "      box-shadow: 0px 1px 3px 1px rgba(0, 0, 0, 0.15);\n",
              "      filter: drop-shadow(0px 1px 2px rgba(0, 0, 0, 0.3));\n",
              "      fill: #FFFFFF;\n",
              "    }\n",
              "  </style>\n",
              "\n",
              "      <script>\n",
              "        const buttonEl =\n",
              "          document.querySelector('#df-8579f818-e26b-4ba6-9328-163fec6c9d45 button.colab-df-convert');\n",
              "        buttonEl.style.display =\n",
              "          google.colab.kernel.accessAllowed ? 'block' : 'none';\n",
              "\n",
              "        async function convertToInteractive(key) {\n",
              "          const element = document.querySelector('#df-8579f818-e26b-4ba6-9328-163fec6c9d45');\n",
              "          const dataTable =\n",
              "            await google.colab.kernel.invokeFunction('convertToInteractive',\n",
              "                                                     [key], {});\n",
              "          if (!dataTable) return;\n",
              "\n",
              "          const docLinkHtml = 'Like what you see? Visit the ' +\n",
              "            '<a target=\"_blank\" href=https://colab.research.google.com/notebooks/data_table.ipynb>data table notebook</a>'\n",
              "            + ' to learn more about interactive tables.';\n",
              "          element.innerHTML = '';\n",
              "          dataTable['output_type'] = 'display_data';\n",
              "          await google.colab.output.renderOutput(dataTable, element);\n",
              "          const docLink = document.createElement('div');\n",
              "          docLink.innerHTML = docLinkHtml;\n",
              "          element.appendChild(docLink);\n",
              "        }\n",
              "      </script>\n",
              "    </div>\n",
              "  </div>\n",
              "  "
            ]
          },
          "metadata": {},
          "execution_count": 29
        }
      ]
    },
    {
      "cell_type": "markdown",
      "source": [
        "**Вывод:** Для данной задачи наиболее важным показателем является полнота. Нам важно не пропустить ни одного пациента имеющего заболевание. Поэтому из данных моделей лучше всего справились с задачей модель логистической регрессии, и случайного леса.\n",
        "\n",
        "В случае наличия сильного дисбалланса классов более правильно использовать метрику precision_recall_curve. Причина этого заключается в том, что, большое количество примеров класса 0 означает, что мы менее заинтересованы в умении модели правильно предсказывать класс 0, например высокие истинные негативы. А при расчете точности и полноты не используются истинные негативы. Это касается только правильного предсказания класса меньшинства, класса 1. При этом roc_auc_curve будет давать более оптимистичную оценку модели, слабо реагируя на соотношение классов."
      ],
      "metadata": {
        "id": "C5WqHiSJbpeT"
      }
    }
  ]
}